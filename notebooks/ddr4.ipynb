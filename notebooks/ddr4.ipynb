{
 "cells": [
  {
   "cell_type": "code",
   "execution_count": null,
   "metadata": {
    "vscode": {
     "languageId": "plaintext"
    }
   },
   "outputs": [],
   "source": [
    "fig, ax = plt.subplots(1, 1, figsize=(29,4), sharex=True)\n",
    "inds = np.arange(len(shot.data['t_g']))\n",
    "#inds = np.arange(1000000)\n",
    "auto_cfg = config.load(cfg_path)\n",
    "plen = auto_cfg['device']['readout']['readout_length'][qi]+auto_cfg['device']['readout']['final_delay'][qi]+auto_cfg['device']['qubit']['pulses']['pi_ge']['sigma'][qi]*auto_cfg['device']['qubit']['pulses']['pi_ge']['sigma_inc'][qi]+0.508\n",
    "print(plen)\n",
    "# print(shot.data['iq_ddr4_g'][0:20,0])\n",
    "# ax[0].plot(shot.data['t_g'][inds],shot.data['iq_ddr4_g'][inds,0],'.',markersize=0.1,linewidth=1)\n",
    "dt=shot.data['t_e'][1]-shot.data['t_e'][0]\n",
    "npts = int(np.ceil(plen/dt))\n",
    "\n",
    "max_time = np.max(shot.data['t_e'][inds])\n",
    "\n",
    "print(max_time)\n",
    "lns = np.arange(0, max_time, plen)\n",
    "#for ln in lns: ax.axvline(ln, linewidth=0.5)\n",
    "# ax[0].plot(shot.data['t_e'][inds],shot.data['iq_ddr4_e'][inds,0],'.',markersize=0.1,linewidth=1)\n",
    "\n",
    "\n",
    "#fig, ax = plt.subplots(2, 1, figsize=(12,8))\n",
    "\n",
    "#ax[1].plot(shot.data['t_g'][inds],shot.data['iq_ddr4_g'][inds,1],'.',markersize=0.1,linewidth=1)\n",
    "#ax.plot(shot.data['t_e'][inds],shot.data['iq_ddr4_e'][inds,1],'.',markersize=0.1,linewidth=1)\n",
    "#ax.set_xlim(left=0)\n",
    "#ax.set_xlim([0,3300])\n",
    "#ax.set_ylim([-300,300])\n",
    "qdata = shot.data['iq_ddr4_e'][inds,1]\n",
    "idata = shot.data['iq_ddr4_e'][inds,0]\n",
    "\n",
    "gqdata = shot.data['iq_ddr4_g'][inds,1]\n",
    "gidata = shot.data['iq_ddr4_g'][inds,0]"
   ]
  },
  {
   "cell_type": "code",
   "execution_count": null,
   "metadata": {
    "vscode": {
     "languageId": "plaintext"
    }
   },
   "outputs": [],
   "source": [
    "nn = np.arange(npts,npts+1)\n",
    "sns.set_palette('coolwarm', len(nn))\n",
    "plt.figure()\n",
    "ind_plot=24000\n",
    "for n in nn: \n",
    "    redd = reshape_iq_data(qdata, n)\n",
    "    numt = redd.shape[1]\n",
    "    x = np.mean(redd, axis=0)\n",
    "    plt.plot(shot.data['t_e'][0:ind_plot], x[0:ind_plot], linewidth=0.2)\n",
    "\n",
    "    redd = reshape_iq_data(gqdata, n)\n",
    "    \n",
    "    x = np.mean(redd, axis=0)\n",
    "    #plt.plot(shot.data['t_e'][0:ind_plot], x[0:ind_plot], linewidth=0.2)\n",
    "    #redd = reshape_iq_data(idata, n)\n",
    "    \n",
    "    #x = np.mean(redd, axis=0)\n",
    "    #plt.plot(shot.data['t_e'][0:ind_plot], x[0:ind_plot], linewidth=0.2)\n",
    "\n",
    "print(redd.shape)\n"
   ]
  },
  {
   "cell_type": "code",
   "execution_count": null,
   "metadata": {
    "vscode": {
     "languageId": "plaintext"
    }
   },
   "outputs": [],
   "source": [
    "nn = np.arange(npts,npts+1)\n",
    "sns.set_palette('coolwarm',2)\n",
    "\n",
    "plt.figure(figsize=(10,5))\n",
    "ind_plot=20000\n",
    "redd = reshape_iq_data(qdata, npts)\n",
    "numt = redd.shape[1]\n",
    "x = np.mean(redd[0:100], axis=0)\n",
    "#plt.plot(shot.data['t_e'][0:ind_plot], x[0:ind_plot], linewidth=0.2)\n",
    "\n",
    "x = np.mean(redd[0:400], axis=0)\n",
    "plt.plot(shot.data['t_e'][0:ind_plot], x[0:ind_plot], linewidth=0.2)\n",
    "\n",
    "x = np.mean(redd[0:1000], axis=0)\n",
    "#plt.plot(shot.data['t_e'][0:ind_plot], x[0:ind_plot], linewidth=0.2)\n",
    "\n",
    "x = np.mean(redd[0:4000], axis=0)\n",
    "#plt.plot(shot.data['t_e'][0:ind_plot], x[0:ind_plot], linewidth=0.2)\n",
    "\n",
    "x = np.mean(redd, axis=0)\n",
    "#plt.plot(shot.data['t_e'][0:ind_plot], x[0:ind_plot], linewidth=0.2)\n"
   ]
  },
  {
   "cell_type": "code",
   "execution_count": null,
   "metadata": {
    "vscode": {
     "languageId": "plaintext"
    }
   },
   "outputs": [],
   "source": [
    "\n",
    "def reshape_iq_data(qdata, npts):\n",
    "\n",
    "    # Calculate how many complete segments we can make\n",
    "\n",
    "    total_len = len(qdata)\n",
    "    n_segments = total_len // npts\n",
    "\n",
    "    # Trim data to integer multiple of npts\n",
    "    trim_len = n_segments * npts\n",
    "    trimmed_data = qdata[:trim_len]\n",
    "\n",
    "\n",
    "    # Reshape to (n_segments, npts)\n",
    "    reshaped_data = trimmed_data.reshape(n_segments, npts)\n",
    "\n",
    "    return reshaped_data"
   ]
  }
 ],
 "metadata": {
  "language_info": {
   "name": "python"
  }
 },
 "nbformat": 4,
 "nbformat_minor": 2
}
